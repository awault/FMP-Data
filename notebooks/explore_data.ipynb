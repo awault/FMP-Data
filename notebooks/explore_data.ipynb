{
 "cells": [
  {
   "cell_type": "code",
   "execution_count": 18,
   "metadata": {},
   "outputs": [
    {
     "name": "stdout",
     "output_type": "stream",
     "text": [
      "/home/codespace/.python/current/bin/python\n"
     ]
    }
   ],
   "source": [
    "# View Source of Python Kernel\n",
    "!which python"
   ]
  },
  {
   "cell_type": "code",
   "execution_count": 19,
   "metadata": {},
   "outputs": [],
   "source": [
    "# Import Libraries\n",
    "import pandas as pd\n",
    "from sqlalchemy import create_engine"
   ]
  },
  {
   "cell_type": "code",
   "execution_count": 20,
   "metadata": {},
   "outputs": [],
   "source": [
    "# Create connection engine for the SQLite database\n",
    "\n",
    "db_path = \"/workspaces/FMP-Financial-Data/fin_data.db\"\n",
    "engine = create_engine(f'sqlite:///{db_path}')"
   ]
  },
  {
   "cell_type": "code",
   "execution_count": 21,
   "metadata": {},
   "outputs": [
    {
     "name": "stdout",
     "output_type": "stream",
     "text": [
      "                         date    open    high     low   close  adj_close  \\\n",
      "0  2025-02-18 00:00:00.000000  228.68  229.13  224.27  224.35     224.35   \n",
      "1  2025-02-14 00:00:00.000000  229.20  229.89  227.23  228.68     228.68   \n",
      "2  2025-02-13 00:00:00.000000  228.85  230.42  227.52  230.37     230.37   \n",
      "3  2025-02-12 00:00:00.000000  230.46  231.18  228.16  228.93     228.93   \n",
      "4  2025-02-11 00:00:00.000000  231.92  233.44  230.13  232.76     232.76   \n",
      "\n",
      "  symbol  \n",
      "0   AMZN  \n",
      "1   AMZN  \n",
      "2   AMZN  \n",
      "3   AMZN  \n",
      "4   AMZN  \n"
     ]
    }
   ],
   "source": [
    "# Query the daily_prices data\n",
    "\n",
    "query = \"SELECT * FROM (daily_prices) LIMIT 5;\"\n",
    "df = pd.read_sql(query, engine)\n",
    "print(df)\n"
   ]
  }
 ],
 "metadata": {
  "kernelspec": {
   "display_name": "Python 3 (ipykernel)",
   "language": "python",
   "name": "python3"
  },
  "language_info": {
   "codemirror_mode": {
    "name": "ipython",
    "version": 3
   },
   "file_extension": ".py",
   "mimetype": "text/x-python",
   "name": "python",
   "nbconvert_exporter": "python",
   "pygments_lexer": "ipython3",
   "version": "3.12.1"
  }
 },
 "nbformat": 4,
 "nbformat_minor": 2
}
