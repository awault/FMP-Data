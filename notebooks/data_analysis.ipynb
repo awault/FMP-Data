{
 "cells": [
  {
   "cell_type": "code",
   "execution_count": 33,
   "metadata": {},
   "outputs": [],
   "source": [
    "import os\n",
    "import pandas as pd\n",
    "import requests\n",
    "from dotenv import load_dotenv\n",
    "load_dotenv()\n",
    "FMP_API_KEY = os.getenv(\"FMP_API_KEY\")"
   ]
  },
  {
   "cell_type": "code",
   "execution_count": 34,
   "metadata": {},
   "outputs": [],
   "source": [
    "def fetch_fmp_data(ticker):\n",
    "    url= f'https://financialmodelingprep.com/api/v3/historical-price-full/{ticker}?apikey={FMP_API_KEY}'\n",
    "    \n",
    "    try:\n",
    "        response = requests.get(url, timeout=10)\n",
    "        response.raise_for_status()\n",
    "        data = response.json()\n",
    "\n",
    "        if 'historical' in data:\n",
    "            #Flatten historical list into a DataFrame\n",
    "            historical_data = pd.DataFrame(data['historical'])\n",
    "            return historical_data\n",
    "        \n",
    "        elif isinstance(data,dict):\n",
    "            return pd.DataFrame([data])\n",
    "        \n",
    "        else:\n",
    "            print(\"Unexpected data format received\")\n",
    "\n",
    "    except requests.RequestException as e:\n",
    "        print(f'Error fetching data: {e}')\n"
   ]
  },
  {
   "cell_type": "code",
   "execution_count": 35,
   "metadata": {},
   "outputs": [],
   "source": [
    "ohlc_price = fetch_fmp_data('AAPL')"
   ]
  },
  {
   "cell_type": "code",
   "execution_count": 36,
   "metadata": {},
   "outputs": [
    {
     "name": "stdout",
     "output_type": "stream",
     "text": [
      "<class 'pandas.core.frame.DataFrame'>\n",
      "RangeIndex: 1257 entries, 0 to 1256\n",
      "Data columns (total 13 columns):\n",
      " #   Column            Non-Null Count  Dtype  \n",
      "---  ------            --------------  -----  \n",
      " 0   date              1257 non-null   object \n",
      " 1   open              1257 non-null   float64\n",
      " 2   high              1257 non-null   float64\n",
      " 3   low               1257 non-null   float64\n",
      " 4   close             1257 non-null   float64\n",
      " 5   adjClose          1257 non-null   float64\n",
      " 6   volume            1257 non-null   int64  \n",
      " 7   unadjustedVolume  1257 non-null   int64  \n",
      " 8   change            1257 non-null   float64\n",
      " 9   changePercent     1257 non-null   float64\n",
      " 10  vwap              1257 non-null   float64\n",
      " 11  label             1257 non-null   object \n",
      " 12  changeOverTime    1257 non-null   float64\n",
      "dtypes: float64(9), int64(2), object(2)\n",
      "memory usage: 127.8+ KB\n"
     ]
    }
   ],
   "source": [
    "ohlc_price.info()"
   ]
  },
  {
   "cell_type": "code",
   "execution_count": null,
   "metadata": {},
   "outputs": [],
   "source": []
  }
 ],
 "metadata": {
  "kernelspec": {
   "display_name": "Python 3",
   "language": "python",
   "name": "python3"
  },
  "language_info": {
   "codemirror_mode": {
    "name": "ipython",
    "version": 3
   },
   "file_extension": ".py",
   "mimetype": "text/x-python",
   "name": "python",
   "nbconvert_exporter": "python",
   "pygments_lexer": "ipython3",
   "version": "3.12.1"
  }
 },
 "nbformat": 4,
 "nbformat_minor": 2
}
